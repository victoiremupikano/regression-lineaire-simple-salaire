{
 "cells": [
  {
   "cell_type": "markdown",
   "id": "46988a57",
   "metadata": {},
   "source": [
    "# Importation des librairies"
   ]
  },
  {
   "cell_type": "code",
   "execution_count": 2,
   "id": "660b592c",
   "metadata": {},
   "outputs": [],
   "source": [
    "# importation des librairies\n",
    "import pandas as pd\n",
    "import numpy as np\n",
    "import matplotlib.pyplot as plt"
   ]
  },
  {
   "cell_type": "markdown",
   "id": "56c7dabc",
   "metadata": {},
   "source": [
    "# Code pour charger les données"
   ]
  },
  {
   "cell_type": "code",
   "execution_count": 3,
   "id": "3b6b8d29",
   "metadata": {},
   "outputs": [],
   "source": [
    "# code pour charger les donnes apartir du fichier csv\n",
    "data = pd.read_csv('SaLlary_Data.csv')"
   ]
  },
  {
   "cell_type": "code",
   "execution_count": 4,
   "id": "b7ea0b60",
   "metadata": {},
   "outputs": [
    {
     "data": {
      "text/html": [
       "<div>\n",
       "<style scoped>\n",
       "    .dataframe tbody tr th:only-of-type {\n",
       "        vertical-align: middle;\n",
       "    }\n",
       "\n",
       "    .dataframe tbody tr th {\n",
       "        vertical-align: top;\n",
       "    }\n",
       "\n",
       "    .dataframe thead th {\n",
       "        text-align: right;\n",
       "    }\n",
       "</style>\n",
       "<table border=\"1\" class=\"dataframe\">\n",
       "  <thead>\n",
       "    <tr style=\"text-align: right;\">\n",
       "      <th></th>\n",
       "      <th>YearsExperience</th>\n",
       "      <th>Salary</th>\n",
       "    </tr>\n",
       "  </thead>\n",
       "  <tbody>\n",
       "    <tr>\n",
       "      <th>0</th>\n",
       "      <td>1.1</td>\n",
       "      <td>39343.0</td>\n",
       "    </tr>\n",
       "    <tr>\n",
       "      <th>1</th>\n",
       "      <td>1.3</td>\n",
       "      <td>46205.0</td>\n",
       "    </tr>\n",
       "    <tr>\n",
       "      <th>2</th>\n",
       "      <td>1.5</td>\n",
       "      <td>37731.0</td>\n",
       "    </tr>\n",
       "    <tr>\n",
       "      <th>3</th>\n",
       "      <td>2.0</td>\n",
       "      <td>43525.0</td>\n",
       "    </tr>\n",
       "    <tr>\n",
       "      <th>4</th>\n",
       "      <td>2.2</td>\n",
       "      <td>39891.0</td>\n",
       "    </tr>\n",
       "  </tbody>\n",
       "</table>\n",
       "</div>"
      ],
      "text/plain": [
       "   YearsExperience   Salary\n",
       "0              1.1  39343.0\n",
       "1              1.3  46205.0\n",
       "2              1.5  37731.0\n",
       "3              2.0  43525.0\n",
       "4              2.2  39891.0"
      ]
     },
     "execution_count": 4,
     "metadata": {},
     "output_type": "execute_result"
    }
   ],
   "source": [
    "# pour voir les 5 premiers instances\n",
    "data.head()\n",
    "# ci on fait 'data.head(10)' on va afficher 10 elts"
   ]
  },
  {
   "cell_type": "code",
   "execution_count": 5,
   "id": "b632a821",
   "metadata": {},
   "outputs": [
    {
     "name": "stdout",
     "output_type": "stream",
     "text": [
      "<class 'pandas.core.frame.DataFrame'>\n",
      "RangeIndex: 30 entries, 0 to 29\n",
      "Data columns (total 2 columns):\n",
      " #   Column           Non-Null Count  Dtype  \n",
      "---  ------           --------------  -----  \n",
      " 0   YearsExperience  30 non-null     float64\n",
      " 1   Salary           30 non-null     float64\n",
      "dtypes: float64(2)\n",
      "memory usage: 608.0 bytes\n"
     ]
    }
   ],
   "source": [
    "# voir les informations du dataset(type, ...) et surtout s'il y a pas des donnees manquante\n",
    "data.info()"
   ]
  },
  {
   "cell_type": "markdown",
   "id": "75094eb7",
   "metadata": {},
   "source": [
    "# Préparation des données\n",
    "On les selectionnent et on les fixes dans des variables"
   ]
  },
  {
   "cell_type": "code",
   "execution_count": 7,
   "id": "bede4c38",
   "metadata": {},
   "outputs": [],
   "source": [
    "# selection de la colonne 'YearsExperience' comme variable d'entrer\n",
    "# et la colonne 'Salary' comme variable cible\n",
    "x = data[['YearsExperience']]\n",
    "y = data['Salary']"
   ]
  },
  {
   "cell_type": "code",
   "execution_count": 8,
   "id": "b524c2f9",
   "metadata": {},
   "outputs": [
    {
     "data": {
      "text/plain": [
       "<matplotlib.collections.PathCollection at 0x282f9d08670>"
      ]
     },
     "execution_count": 8,
     "metadata": {},
     "output_type": "execute_result"
    },
    {
     "data": {
      "image/png": "[encoded data removed]",
      "text/plain": [
       "<Figure size 640x480 with 1 Axes>"
      ]
     },
     "metadata": {},
     "output_type": "display_data"
    }
   ],
   "source": [
    "# on affiche les var sur le graphique\n",
    "plt.scatter(x,y)"
   ]
  },
  {
   "cell_type": "markdown",
   "id": "bb3fb0ff",
   "metadata": {},
   "source": [
    "# Entrainement et test"
   ]
  },
  {
   "cell_type": "code",
   "execution_count": 11,
   "id": "463dc074",
   "metadata": {},
   "outputs": [],
   "source": [
    "# on va separer la dataset en deux et on va faire l'entrainement et le test\n",
    "from sklearn.model_selection import train_test_split\n",
    "X_train, X_test, Y_train, Y_test = train_test_split(x,y,test_size=1/3,random_state=0)"
   ]
  },
  {
   "cell_type": "markdown",
   "id": "7ec2249e",
   "metadata": {},
   "source": [
    "# Génération et entrainement du model"
   ]
  },
  {
   "cell_type": "code",
   "execution_count": 13,
   "id": "22ff1591",
   "metadata": {},
   "outputs": [],
   "source": [
    "# premierement on import la lib LinearRegression\n",
    "from sklearn.linear_model import LinearRegression\n",
    "# on cree une instance de cette lib (ou classe)\n",
    "regressor = LinearRegression()"
   ]
  },
  {
   "cell_type": "code",
   "execution_count": 15,
   "id": "29e44f23",
   "metadata": {},
   "outputs": [
    {
     "data": {
      "text/plain": [
       "LinearRegression()"
      ]
     },
     "execution_count": 15,
     "metadata": {},
     "output_type": "execute_result"
    }
   ],
   "source": [
    "# Entrainement proprement dite (calcul varie en fx de lq qt des donnees)\n",
    "regressor.fit(X_train, Y_train) # dans cette entrainement on va produire l'equation lineaire"
   ]
  },
  {
   "cell_type": "code",
   "execution_count": 16,
   "id": "59d32a60",
   "metadata": {},
   "outputs": [
    {
     "name": "stdout",
     "output_type": "stream",
     "text": [
      "[9345.94244312]\n",
      "26816.19224403119\n"
     ]
    }
   ],
   "source": [
    "# Retrouver les coefficients et l'ordonnée à l'origine\n",
    "print(regressor.coef_)\n",
    "print(regressor.intercept_)"
   ]
  },
  {
   "cell_type": "code",
   "execution_count": 17,
   "id": "b9275c0c",
   "metadata": {},
   "outputs": [
    {
     "data": {
      "text/plain": [
       "Text(0, 0.5, 'Salaire')"
      ]
     },
     "execution_count": 17,
     "metadata": {},
     "output_type": "execute_result"
    },
    {
     "data": {
      "image/png": "[encoded data removed]",
      "text/plain": [
       "<Figure size 640x480 with 1 Axes>"
      ]
     },
     "metadata": {},
     "output_type": "display_data"
    }
   ],
   "source": [
    "# on ajoute sur le graphique la droite\n",
    "ordonne = np.linspace(0,15,1000)\n",
    "plt.scatter(x,y)\n",
    "plt.plot(ordonne,regressor.coef_[0]*ordonne+regressor.intercept_,color='r')\n",
    "plt.xlabel(\"Année d'experience\")\n",
    "plt.ylabel(\"Salaire\")"
   ]
  },
  {
   "cell_type": "markdown",
   "id": "33a4ab9d",
   "metadata": {},
   "source": [
    "# Evaluation du model (foire la prédiction)"
   ]
  },
  {
   "cell_type": "code",
   "execution_count": 18,
   "id": "36741b09",
   "metadata": {},
   "outputs": [],
   "source": [
    "# prediction sur la base test\n",
    "y_predict = regressor.predict(X_test) # On cherche a predire les salaires en sortie par rapport ou sur le X_test"
   ]
  },
  {
   "cell_type": "code",
   "execution_count": 21,
   "id": "d7d67b4b",
   "metadata": {},
   "outputs": [
    {
     "name": "stdout",
     "output_type": "stream",
     "text": [
      "MAE :  3426.4269374307123\n",
      "MSE :  21026037.329511296\n",
      "RMSE :  4585.4157204675885\n",
      "R² :  0.9749154407708353\n"
     ]
    }
   ],
   "source": [
    "# Metrique (plus r2 est proche de 1 ce que le model est au minimum bon)\n",
    "from sklearn import metrics\n",
    "print('MAE : ', metrics.mean_absolute_error(Y_test, y_predict))\n",
    "print('MSE : ', metrics.mean_squared_error(Y_test, y_predict))\n",
    "print('RMSE : ', np.sqrt(metrics.mean_squared_error(Y_test, y_predict)))\n",
    "print('R² : ', metrics.r2_score(Y_test, y_predict))"
   ]
  },
  {
   "cell_type": "code",
   "execution_count": 22,
   "id": "0dc16648",
   "metadata": {},
   "outputs": [
    {
     "name": "stderr",
     "output_type": "stream",
     "text": [
      "C:\\Users\\Victoire\\anaconda3\\lib\\site-packages\\sklearn\\base.py:493: FutureWarning: The feature names should match those that were passed during fit. Starting version 1.2, an error will be raised.\n",
      "Feature names unseen at fit time:\n",
      "- New Data\n",
      "Feature names seen at fit time, yet now missing:\n",
      "- YearsExperience\n",
      "\n",
      "  warnings.warn(message, FutureWarning)\n"
     ]
    },
    {
     "data": {
      "text/plain": [
       "array([73545.90445964, 64199.96201652])"
      ]
     },
     "execution_count": 22,
     "metadata": {},
     "output_type": "execute_result"
    }
   ],
   "source": [
    "# nous avons deja notre model de predition, sur base de ca on va lui passer des nouvelles donnes et voire ce que le model nous propose\n",
    "NewData = [[5], [4]] # on lui passer deux valeur a tester (comme annee d'experience bien attendue)\n",
    "NewTest = pd.DataFrame(NewData, columns=['New Data'])\n",
    "y_new = regressor.predict(NewTest)\n",
    "# on affcihe\n",
    "y_new"
   ]
  }
 ],
 "metadata": {
  "kernelspec": {
   "display_name": "Python 3 (ipykernel)",
   "language": "python",
   "name": "python3"
  },
  "language_info": {
   "codemirror_mode": {
    "name": "ipython",
    "version": 3
   },
   "file_extension": ".py",
   "mimetype": "text/x-python",
   "name": "python",
   "nbconvert_exporter": "python",
   "pygments_lexer": "ipython3",
   "version": "3.9.13"
  }
 },
 "nbformat": 4,
 "nbformat_minor": 5
}
